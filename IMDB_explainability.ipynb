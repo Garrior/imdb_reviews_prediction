{
    "cells": [
        {
            "cell_type": "code",
            "execution_count": 181,
            "metadata": {},
            "outputs": [],
            "source": "# The code was removed by Watson Studio for sharing."
        },
        {
            "cell_type": "markdown",
            "metadata": {},
            "source": "<img src=\"https://github.com/pmservice/ai-openscale-tutorials/raw/master/notebooks/images/banner.png\" align=\"left\" alt=\"banner\">"
        },
        {
            "cell_type": "markdown",
            "metadata": {},
            "source": "**Note**: This notebook works correctly with kernel `Python 3.10.x` with pyspark 3.3.x."
        },
        {
            "cell_type": "markdown",
            "metadata": {},
            "source": "<a id=\"setup\"></a>\n## 1. Setup\n\n### 1.1 Install Watson OpenScale and WML packages"
        },
        {
            "cell_type": "code",
            "execution_count": 182,
            "metadata": {},
            "outputs": [
                {
                    "name": "stdout",
                    "output_type": "stream",
                    "text": "Requirement already satisfied: certifi>=2017.4.17 in /opt/conda/envs/Python-3.10/lib/python3.10/site-packages (from requests<3.0,>=2.0->ibm-watson-openscale) (2023.5.7)\r\n"
                }
            ],
            "source": "!pip install --upgrade ibm-watson-openscale --no-cache --user| tail -n 1"
        },
        {
            "cell_type": "code",
            "execution_count": 183,
            "metadata": {},
            "outputs": [
                {
                    "name": "stdout",
                    "output_type": "stream",
                    "text": "Requirement already satisfied: pyparsing!=3.0.5,>=2.0.2 in /opt/conda/envs/Python-3.10/lib/python3.10/site-packages (from packaging->ibm-watson-machine-learning) (3.0.9)\r\n"
                }
            ],
            "source": "!pip install --upgrade ibm-watson-machine-learning --no-cache --user| tail -n 1"
        },
        {
            "cell_type": "markdown",
            "metadata": {},
            "source": "Note: Restart the kernel to assure the new libraries are being used."
        },
        {
            "cell_type": "markdown",
            "metadata": {},
            "source": "### 1.2 Configure credentials"
        },
        {
            "cell_type": "code",
            "execution_count": 184,
            "metadata": {},
            "outputs": [],
            "source": "CLOUD_API_KEY = \"xiriDO_Tw_oYQeixxugQygpxHNEIWoOYZ0An2USovB4r\"\nIAM_URL=\"https://iam.us-south.bluemix.net/oidc/token\""
        },
        {
            "cell_type": "code",
            "execution_count": 185,
            "metadata": {},
            "outputs": [],
            "source": "WML_CREDENTIALS = {\n                   \"url\": \"https://us-south.ml.cloud.ibm.com\",\n                   \"apikey\": CLOUD_API_KEY\n}"
        },
        {
            "cell_type": "code",
            "execution_count": 186,
            "metadata": {},
            "outputs": [
                {
                    "data": {
                        "text/plain": "'1.0.308'"
                    },
                    "execution_count": 186,
                    "metadata": {},
                    "output_type": "execute_result"
                }
            ],
            "source": "import json\nfrom ibm_watson_machine_learning import APIClient\n\nwml_client = APIClient(WML_CREDENTIALS)\nwml_client.version"
        },
        {
            "cell_type": "code",
            "execution_count": 187,
            "metadata": {},
            "outputs": [
                {
                    "name": "stdout",
                    "output_type": "stream",
                    "text": "------------------------------------  -----------------------  ------------------------\nID                                    NAME                     CREATED\nb22781ad-5eff-44b0-a36c-6765799d7133  Lukasz Deployment Space  2023-05-28T18:59:07.579Z\n------------------------------------  -----------------------  ------------------------\n"
                },
                {
                    "data": {
                        "text/html": "<div>\n<style scoped>\n    .dataframe tbody tr th:only-of-type {\n        vertical-align: middle;\n    }\n\n    .dataframe tbody tr th {\n        vertical-align: top;\n    }\n\n    .dataframe thead th {\n        text-align: right;\n    }\n</style>\n<table border=\"1\" class=\"dataframe\">\n  <thead>\n    <tr style=\"text-align: right;\">\n      <th></th>\n      <th>ID</th>\n      <th>NAME</th>\n      <th>CREATED</th>\n    </tr>\n  </thead>\n  <tbody>\n    <tr>\n      <th>0</th>\n      <td>b22781ad-5eff-44b0-a36c-6765799d7133</td>\n      <td>Lukasz Deployment Space</td>\n      <td>2023-05-28T18:59:07.579Z</td>\n    </tr>\n  </tbody>\n</table>\n</div>",
                        "text/plain": "                                     ID                     NAME  \\\n0  b22781ad-5eff-44b0-a36c-6765799d7133  Lukasz Deployment Space   \n\n                    CREATED  \n0  2023-05-28T18:59:07.579Z  "
                    },
                    "execution_count": 187,
                    "metadata": {},
                    "output_type": "execute_result"
                }
            ],
            "source": "wml_client.spaces.list(limit=10)"
        },
        {
            "cell_type": "code",
            "execution_count": 188,
            "metadata": {},
            "outputs": [
                {
                    "data": {
                        "text/plain": "'SUCCESS'"
                    },
                    "execution_count": 188,
                    "metadata": {},
                    "output_type": "execute_result"
                }
            ],
            "source": "WML_SPACE_ID='b22781ad-5eff-44b0-a36c-6765799d7133' # use space id here\nwml_client.set.default_space(WML_SPACE_ID)"
        },
        {
            "cell_type": "code",
            "execution_count": 189,
            "metadata": {},
            "outputs": [],
            "source": "MODEL_NAME = \"P16\""
        },
        {
            "cell_type": "markdown",
            "metadata": {},
            "source": "## 3. Subscriptions <a id=\"subscription\"></a>"
        },
        {
            "cell_type": "markdown",
            "metadata": {},
            "source": "### 3.1 Configuring OS"
        },
        {
            "cell_type": "code",
            "execution_count": 190,
            "metadata": {},
            "outputs": [
                {
                    "data": {
                        "text/plain": "'3.0.31'"
                    },
                    "execution_count": 190,
                    "metadata": {},
                    "output_type": "execute_result"
                }
            ],
            "source": "from ibm_cloud_sdk_core.authenticators import IAMAuthenticator,BearerTokenAuthenticator\n\nfrom ibm_watson_openscale import *\nfrom ibm_watson_openscale.supporting_classes.enums import *\nfrom ibm_watson_openscale.supporting_classes import *\n\n\nauthenticator = IAMAuthenticator(apikey=CLOUD_API_KEY)\n#authenticator = BearerTokenAuthenticator(bearer_token=IAM_TOKEN) ## uncomment this line if using IAM token to authenticate\nwos_client = APIClient(authenticator=authenticator)\nwos_client.version"
        },
        {
            "cell_type": "markdown",
            "metadata": {},
            "source": "**Note**: Please re-run the above cell if it doesn't work the first time."
        },
        {
            "cell_type": "code",
            "execution_count": 191,
            "metadata": {},
            "outputs": [],
            "source": "#DB_CREDENTIALS= {\"hostname\":\"\",\"username\":\"\",\"password\":\"\",\"database\":\"\",\"port\":\"\",\"ssl\":True,\"sslmode\":\"\",\"certificate_base64\":\"\"}\nDB_CREDENTIALS = None\nKEEP_MY_INTERNAL_POSTGRES = True"
        },
        {
            "cell_type": "code",
            "execution_count": 192,
            "metadata": {},
            "outputs": [
                {
                    "name": "stdout",
                    "output_type": "stream",
                    "text": "Using existing datamart e25969b8-316a-4515-b5ea-5895bbbd2c55\n"
                }
            ],
            "source": "data_marts = wos_client.data_marts.list().result.data_marts\nif len(data_marts) == 0:\n    if DB_CREDENTIALS is not None:\n        if SCHEMA_NAME is None: \n            print(\"Please specify the SCHEMA_NAME and rerun the cell\")\n\n        print('Setting up external datamart')\n        added_data_mart_result = wos_client.data_marts.add(\n                background_mode=False,\n                name=\"WOS Data Mart\",\n                description=\"Data Mart created by WOS tutorial notebook\",\n                database_configuration=DatabaseConfigurationRequest(\n                  database_type=DatabaseType.POSTGRESQL,\n                    credentials=PrimaryStorageCredentialsLong(\n                        hostname=DB_CREDENTIALS['hostname'],\n                        username=DB_CREDENTIALS['username'],\n                        password=DB_CREDENTIALS['password'],\n                        db=DB_CREDENTIALS['database'],\n                        port=DB_CREDENTIALS['port'],\n                        ssl=True,\n                        sslmode=DB_CREDENTIALS['sslmode'],\n                        certificate_base64=DB_CREDENTIALS['certificate_base64']\n                    ),\n                    location=LocationSchemaName(\n                        schema_name= SCHEMA_NAME\n                    )\n                )\n             ).result\n    else:\n        print('Setting up internal datamart')\n        added_data_mart_result = wos_client.data_marts.add(\n                background_mode=False,\n                name=\"WOS Data Mart\",\n                description=\"Data Mart created by WOS tutorial notebook\", \n                internal_database = True).result\n        \n    data_mart_id = added_data_mart_result.metadata.id\n    \nelse:\n    data_mart_id=data_marts[0].metadata.id\n    print('Using existing datamart {}'.format(data_mart_id))"
        },
        {
            "cell_type": "code",
            "execution_count": 193,
            "metadata": {},
            "outputs": [],
            "source": "SERVICE_PROVIDER_NAME = \"ServiceName\"\nSERVICE_PROVIDER_DESCRIPTION = \"ServiceDescription\""
        },
        {
            "cell_type": "code",
            "execution_count": 194,
            "metadata": {},
            "outputs": [
                {
                    "name": "stdout",
                    "output_type": "stream",
                    "text": "Deleted existing service_provider for WML instance: 1cb6efa5-036e-49be-b3a6-99b1aacb8427\n"
                }
            ],
            "source": "service_providers = wos_client.service_providers.list().result.service_providers\nfor service_provider in service_providers:\n    service_instance_name = service_provider.entity.name\n    if service_instance_name == SERVICE_PROVIDER_NAME:\n        service_provider_id = service_provider.metadata.id\n        wos_client.service_providers.delete(service_provider_id)\n        print(\"Deleted existing service_provider for WML instance: {}\".format(service_provider_id))"
        },
        {
            "cell_type": "code",
            "execution_count": 195,
            "metadata": {},
            "outputs": [
                {
                    "name": "stdout",
                    "output_type": "stream",
                    "text": "\n\n=================================================================================\n\n Waiting for end of adding service provider c8cfedcd-09f3-4d2e-ab59-2803138229f9 \n\n=================================================================================\n\n\n\nactive\n\n-----------------------------------------------\n Successfully finished adding service provider \n-----------------------------------------------\n\n\n"
                }
            ],
            "source": "added_service_provider_result = wos_client.service_providers.add(\n        name=SERVICE_PROVIDER_NAME,\n        description=SERVICE_PROVIDER_DESCRIPTION,\n        service_type=ServiceTypes.WATSON_MACHINE_LEARNING,\n        deployment_space_id = WML_SPACE_ID,\n        operational_space_id = \"production\",\n        credentials=WMLCredentialsCloud(\n            apikey=CLOUD_API_KEY,      ## use `apikey=IAM_TOKEN` if using IAM_TOKEN to initiate client\n            url=WML_CREDENTIALS[\"url\"],\n            instance_id=None\n        ),\n        background_mode=False\n    ).result\nservice_provider_id = added_service_provider_result.metadata.id"
        },
        {
            "cell_type": "code",
            "execution_count": 196,
            "metadata": {},
            "outputs": [
                {
                    "name": "stdout",
                    "output_type": "stream",
                    "text": "Available deployment names: ['model_08JUN deployment', 'model_h_10 deployment', 'H7 Prediction model', 'best_model deployment', 'model_h_10 deployment', 'best_model deployment', 'model_08JUN deployment', 'model_h_10 deployment', 'model_h_10 deployment', 'model_h_10 deployment']\n"
                }
            ],
            "source": "# Retrieve the list of asset deployment details\nasset_deployment_details_list = wos_client.service_providers.list_assets(data_mart_id=data_mart_id, service_provider_id=service_provider_id, deployment_space_id=WML_SPACE_ID).result['resources']\n\n# Print the available deployment names\navailable_names = [asset['entity']['name'] for asset in asset_deployment_details_list]\nprint(\"Available deployment names:\", available_names)\n"
        },
        {
            "cell_type": "code",
            "execution_count": 197,
            "metadata": {},
            "outputs": [
                {
                    "name": "stdout",
                    "output_type": "stream",
                    "text": "Asset deployment details: {'metadata': {'guid': '7ec4e10b-b84f-4fe0-a8dc-f7b56c5d4ed0', 'url': 'https://us-south.ml.cloud.ibm.com/ml/v4/deployments/7ec4e10b-b84f-4fe0-a8dc-f7b56c5d4ed0?space_id=b22781ad-5eff-44b0-a36c-6765799d7133', 'created_at': '2023-06-09T16:05:35.621Z', 'modified_at': '2023-06-09T16:05:35.621Z'}, 'entity': {'name': 'H7 Prediction model', 'type': 'online', 'scoring_endpoint': {'url': 'https://us-south.ml.cloud.ibm.com/ml/v4/deployments/7ec4e10b-b84f-4fe0-a8dc-f7b56c5d4ed0/predictions'}, 'asset': {}, 'asset_properties': {}}}\n"
                }
            ],
            "source": "asset_deployment_details_list = wos_client.service_providers.list_assets(data_mart_id=data_mart_id, service_provider_id=service_provider_id, deployment_space_id=WML_SPACE_ID).result['resources']\n\nDEPLOYMENT_NAME = 'H7 Prediction model'  # Use the model name here\n\nmatching_deployments = [asset for asset in asset_deployment_details_list if asset['entity']['name'] == DEPLOYMENT_NAME]\n\nif len(matching_deployments) > 0:\n    asset_deployment_details = matching_deployments[0]  # Select the first matching deployment\nelse:\n    raise ValueError('Deployment with name \"{}\" not found.'.format(DEPLOYMENT_NAME))\n\n# Use the asset deployment details\nprint(\"Asset deployment details:\", asset_deployment_details)\n"
        },
        {
            "cell_type": "code",
            "execution_count": 198,
            "metadata": {},
            "outputs": [
                {
                    "data": {
                        "text/plain": "'7ec4e10b-b84f-4fe0-a8dc-f7b56c5d4ed0'"
                    },
                    "execution_count": 198,
                    "metadata": {},
                    "output_type": "execute_result"
                }
            ],
            "source": "deployment_uid = asset_deployment_details['metadata']['guid']\ndeployment_uid"
        },
        {
            "cell_type": "code",
            "execution_count": 199,
            "metadata": {
                "scrolled": false
            },
            "outputs": [
                {
                    "data": {
                        "text/plain": "{'metadata': {'guid': '7ec4e10b-b84f-4fe0-a8dc-f7b56c5d4ed0',\n  'url': 'https://us-south.ml.cloud.ibm.com/ml/v4/deployments/7ec4e10b-b84f-4fe0-a8dc-f7b56c5d4ed0?space_id=b22781ad-5eff-44b0-a36c-6765799d7133',\n  'created_at': '2023-06-09T16:05:35.621Z',\n  'modified_at': '2023-06-09T16:05:35.621Z'},\n 'entity': {'name': 'H7 Prediction model',\n  'type': 'online',\n  'scoring_endpoint': {'url': 'https://us-south.ml.cloud.ibm.com/ml/v4/deployments/7ec4e10b-b84f-4fe0-a8dc-f7b56c5d4ed0/predictions'},\n  'asset': {'asset_id': 'ac6ac79d-4ad0-4058-ada1-7e941c343b69',\n   'url': 'https://us-south.ml.cloud.ibm.com/ml/v4/models/ac6ac79d-4ad0-4058-ada1-7e941c343b69?space_id=b22781ad-5eff-44b0-a36c-6765799d7133&version=2020-06-12',\n   'name': 'P16',\n   'asset_type': 'model',\n   'created_at': '2023-06-09T15:22:19.904Z',\n   'modified_at': '2023-06-09T15:22:24.969Z',\n   'problem_type': 'binary',\n   'input_data_type': 'structured'},\n  'asset_properties': {'problem_type': 'binary',\n   'model_type': 'wml-hybrid_0.1',\n   'runtime_environment': 'hybrid-0.1',\n   'label_column': 'labels',\n   'input_data_type': 'structured',\n   'input_data_schema': {'type': 'struct',\n    'id': 'auto_ai_kb_input_schema',\n    'fields': [{'name': 'preprocessed_texts',\n      'type': 'string',\n      'nullable': True}]},\n   'output_data_schema': {'type': 'struct',\n    'id': 'auto_ai_kb_input_schema',\n    'fields': [{'name': 'preprocessed_texts',\n      'type': 'string',\n      'nullable': True},\n     {'name': 'probability',\n      'type': {'containsNull': True, 'type': 'array', 'elementType': 'double'},\n      'nullable': True,\n      'metadata': {'modeling_role': 'probability'}},\n     {'name': 'prediction',\n      'type': 'integer',\n      'nullable': True,\n      'metadata': {'modeling_role': 'prediction'}}]},\n   'training_data_schema': {'type': 'struct',\n    'id': 'auto_ai_kb_input_schema',\n    'fields': [{'name': 'preprocessed_texts',\n      'type': 'string',\n      'nullable': True},\n     {'name': 'labels', 'type': 'integer', 'nullable': True}]}}}}"
                    },
                    "execution_count": 199,
                    "metadata": {},
                    "output_type": "execute_result"
                }
            ],
            "source": "model_asset_details_from_deployment=wos_client.service_providers.get_deployment_asset(data_mart_id=data_mart_id,service_provider_id=service_provider_id,deployment_id=deployment_uid,deployment_space_id=WML_SPACE_ID)\nmodel_asset_details_from_deployment"
        },
        {
            "cell_type": "code",
            "execution_count": 200,
            "metadata": {},
            "outputs": [
                {
                    "name": "stdout",
                    "output_type": "stream",
                    "text": "ac6ac79d-4ad0-4058-ada1-7e941c343b69\nhttps://us-south.ml.cloud.ibm.com/ml/v4/deployments/7ec4e10b-b84f-4fe0-a8dc-f7b56c5d4ed0/predictions\n"
                }
            ],
            "source": "model_uid = model_asset_details_from_deployment['entity']['asset']['asset_id']\nscoring_url = model_asset_details_from_deployment['entity']['scoring_endpoint']['url']\nprint(model_uid)\nprint(scoring_url)"
        },
        {
            "cell_type": "markdown",
            "metadata": {},
            "source": "### 3.2 Subscribe the asset"
        },
        {
            "cell_type": "code",
            "execution_count": 201,
            "metadata": {},
            "outputs": [],
            "source": "subscriptions = wos_client.subscriptions.list().result.subscriptions\nfor subscription in subscriptions:\n    sub_model_id = subscription.entity.asset.asset_id\n    if sub_model_id == model_uid:\n        wos_client.subscriptions.delete(subscription.metadata.id)\n        print('Deleted existing subscription for model', sub_model_id)"
        },
        {
            "cell_type": "code",
            "execution_count": 202,
            "metadata": {},
            "outputs": [],
            "source": "from ibm_watson_openscale.base_classes.watson_open_scale_v2 import ScoringEndpointRequest"
        },
        {
            "cell_type": "code",
            "execution_count": 203,
            "metadata": {
                "scrolled": true
            },
            "outputs": [
                {
                    "data": {
                        "text/plain": "'13c2cf68-6b36-4e0a-961e-7584c8f819cd'"
                    },
                    "execution_count": 203,
                    "metadata": {},
                    "output_type": "execute_result"
                }
            ],
            "source": "subscription_details = wos_client.subscriptions.add(\n        data_mart_id=data_mart_id,\n        service_provider_id=service_provider_id,\n        asset=Asset(\n            asset_id=model_asset_details_from_deployment[\"entity\"][\"asset\"][\"asset_id\"],\n            name=model_asset_details_from_deployment[\"entity\"][\"asset\"][\"name\"],\n            url=model_asset_details_from_deployment[\"entity\"][\"asset\"][\"url\"],\n            asset_type=AssetTypes.MODEL,\n            input_data_type=InputDataType.UNSTRUCTURED_TEXT,\n            problem_type=ProblemType.BINARY_CLASSIFICATION\n        ),\n        deployment=AssetDeploymentRequest(\n            deployment_id=asset_deployment_details['metadata']['guid'],\n            name=asset_deployment_details['entity']['name'],\n            deployment_type= DeploymentTypes.ONLINE,\n            url=asset_deployment_details['metadata']['url'],\n            scoring_endpoint=ScoringEndpointRequest(url=scoring_url) # scoring model without shadow deployment\n        ),\n        asset_properties=AssetPropertiesRequest(\n            label_column='labels',\n            probability_fields=['probability'],\n            prediction_field='predictionLabel',\n            feature_fields = [\"preprocessed_texts\"],\n            categorical_fields = [\"preprocessed_texts\"],\n            training_data_schema=SparkStruct.from_dict(model_asset_details_from_deployment[\"entity\"][\"asset_properties\"][\"training_data_schema\"])\n        )\n    ).result\nsubscription_id = subscription_details.metadata.id\nsubscription_id"
        },
        {
            "cell_type": "code",
            "execution_count": 204,
            "metadata": {},
            "outputs": [
                {
                    "data": {
                        "text/html": "<HTML>\n        <body>\n            <h3>Subscriptions</h3>\n            <table style='border: 1px solid #dddddd; font-family: Courier'>\n                <th style='border: 1px solid #dddddd'>asset_id</th><th style='border: 1px solid #dddddd'>asset_name</th><th style='border: 1px solid #dddddd'>data_mart_id</th><th style='border: 1px solid #dddddd'>deployment_id</th><th style='border: 1px solid #dddddd'>deployment_name</th><th style='border: 1px solid #dddddd'>service_provider_id</th><th style='border: 1px solid #dddddd'>status</th><th style='border: 1px solid #dddddd'>created_at</th><th style='border: 1px solid #dddddd'>id</th>\n                <tr><td style='border: 1px solid #dddddd'>ac6ac79d-4ad0-4058-ada1-7e941c343b69</td><td style='border: 1px solid #dddddd'>P16</td><td style='border: 1px solid #dddddd'>e25969b8-316a-4515-b5ea-5895bbbd2c55</td><td style='border: 1px solid #dddddd'>7ec4e10b-b84f-4fe0-a8dc-f7b56c5d4ed0</td><td style='border: 1px solid #dddddd'>H7 Prediction model</td><td style='border: 1px solid #dddddd'>c8cfedcd-09f3-4d2e-ab59-2803138229f9</td><td style='border: 1px solid #dddddd'>preparing</td><td style='border: 1px solid #dddddd'>2023-06-09 20:31:23.542000+00:00</td><td style='border: 1px solid #dddddd'>13c2cf68-6b36-4e0a-961e-7584c8f819cd</td></tr><tr><td style='border: 1px solid #dddddd'>7af59133-9a51-4193-83e7-062c88e810be</td><td style='border: 1px solid #dddddd'>IMDBClassificationExperimentDallas - P4 XGB Classifier</td><td style='border: 1px solid #dddddd'>e25969b8-316a-4515-b5ea-5895bbbd2c55</td><td style='border: 1px solid #dddddd'>c878f44c-2dd8-47b8-9b2f-c173365d4a13</td><td style='border: 1px solid #dddddd'>IMDB Classification deployment</td><td style='border: 1px solid #dddddd'>7acc5cf1-43c6-498a-9a66-c2827bfc0e69</td><td style='border: 1px solid #dddddd'>active</td><td style='border: 1px solid #dddddd'>2023-06-09 16:31:06.538000+00:00</td><td style='border: 1px solid #dddddd'>156bb6d1-7302-498e-b4ed-c953676c8ef0</td></tr><tr><td style='border: 1px solid #dddddd'>b7efdd8a-269d-45c1-a100-443518cd4642</td><td style='border: 1px solid #dddddd'>Ham_Spam_Model</td><td style='border: 1px solid #dddddd'>e25969b8-316a-4515-b5ea-5895bbbd2c55</td><td style='border: 1px solid #dddddd'>999b0e41-bfc1-4cba-8f1a-cb74567eb739</td><td style='border: 1px solid #dddddd'>Ham_Spam_Model deployment</td><td style='border: 1px solid #dddddd'>53042c62-ac2a-47c0-bd58-4ddee28dd43f</td><td style='border: 1px solid #dddddd'>active</td><td style='border: 1px solid #dddddd'>2023-06-07 15:15:02.828000+00:00</td><td style='border: 1px solid #dddddd'>b662cec5-fa98-4fcf-bb48-88cb8ca303c0</td></tr><tr><td style='border: 1px solid #dddddd'>ec884afa-24c1-4aed-9967-2d53ab5af161</td><td style='border: 1px solid #dddddd'>DKaluzaSpamDetector</td><td style='border: 1px solid #dddddd'>e25969b8-316a-4515-b5ea-5895bbbd2c55</td><td style='border: 1px solid #dddddd'>ce4c59b4-6877-44f4-94dc-5b6b8c961e87</td><td style='border: 1px solid #dddddd'>DKaluzaSpamDetector deployment</td><td style='border: 1px solid #dddddd'>6f8a1561-19e0-4cfb-81c5-aff23195f126</td><td style='border: 1px solid #dddddd'>active</td><td style='border: 1px solid #dddddd'>2023-05-24 08:36:42.214000+00:00</td><td style='border: 1px solid #dddddd'>2756a69d-a3f4-4474-9f53-2c9130c40bbb</td></tr><tr><td style='border: 1px solid #dddddd'>8678081b-79a4-4b22-94c8-04c80dce9245</td><td style='border: 1px solid #dddddd'>Text Binary Classifier</td><td style='border: 1px solid #dddddd'>e25969b8-316a-4515-b5ea-5895bbbd2c55</td><td style='border: 1px solid #dddddd'>34e05d06-f82a-4ba0-9dda-07aef2ecc53a</td><td style='border: 1px solid #dddddd'>Text Binary Classifier deployment</td><td style='border: 1px solid #dddddd'>7c1db92e-dd74-4c2f-a33b-5f3ac59c799c</td><td style='border: 1px solid #dddddd'>active</td><td style='border: 1px solid #dddddd'>2023-05-05 08:35:17.385000+00:00</td><td style='border: 1px solid #dddddd'>02152349-cb27-4c4d-8ae3-5b3e06d71fe6</td></tr>\n            </table>\n        </body>\n        </HTML>",
                        "text/plain": "<IPython.core.display.HTML object>"
                    },
                    "metadata": {},
                    "output_type": "display_data"
                }
            ],
            "source": "wos_client.subscriptions.show()"
        },
        {
            "cell_type": "code",
            "execution_count": 205,
            "metadata": {},
            "outputs": [
                {
                    "name": "stdout",
                    "output_type": "stream",
                    "text": "Payload data set id:  828e3d1a-4b7d-496b-9c1c-a3063a5bd204\n"
                }
            ],
            "source": "import time\n\ntime.sleep(5)\npayload_data_set_id = None\npayload_data_set_id = wos_client.data_sets.list(type=DataSetTypes.PAYLOAD_LOGGING, \n                                                target_target_id=subscription_id, \n                                                target_target_type=TargetTypes.SUBSCRIPTION).result.data_sets[0].metadata.id\nif payload_data_set_id is None:\n    print(\"Payload data set not found. Please check subscription status.\")\nelse:\n    print(\"Payload data set id: \", payload_data_set_id)"
        },
        {
            "cell_type": "markdown",
            "metadata": {},
            "source": "### 3.3 Get subscription"
        },
        {
            "cell_type": "code",
            "execution_count": 206,
            "metadata": {},
            "outputs": [
                {
                    "data": {
                        "text/plain": "{'metadata': {'id': '13c2cf68-6b36-4e0a-961e-7584c8f819cd',\n  'crn': 'crn:v1:bluemix:public:aiopenscale:us-south:a/9f662e92df19cc1abadb5782b2f5c041:e25969b8-316a-4515-b5ea-5895bbbd2c55:subscription:13c2cf68-6b36-4e0a-961e-7584c8f819cd',\n  'url': '/v2/subscriptions/13c2cf68-6b36-4e0a-961e-7584c8f819cd',\n  'created_at': '2023-06-09T20:31:23.542000Z',\n  'created_by': 'IBMid-66600302EK'},\n 'entity': {'data_mart_id': 'e25969b8-316a-4515-b5ea-5895bbbd2c55',\n  'service_provider_id': 'c8cfedcd-09f3-4d2e-ab59-2803138229f9',\n  'asset': {'asset_id': 'ac6ac79d-4ad0-4058-ada1-7e941c343b69',\n   'url': 'https://us-south.ml.cloud.ibm.com/ml/v4/models/ac6ac79d-4ad0-4058-ada1-7e941c343b69?space_id=b22781ad-5eff-44b0-a36c-6765799d7133&version=2020-06-12',\n   'name': 'P16',\n   'asset_type': 'model',\n   'problem_type': 'binary',\n   'input_data_type': 'unstructured_text'},\n  'asset_properties': {'training_data_schema': {'type': 'struct',\n    'fields': [{'metadata': {'columnInfo': {'columnLength': 64},\n       'measure': 'discrete',\n       'modeling_role': 'feature'},\n      'name': 'preprocessed_texts',\n      'nullable': True,\n      'type': 'string'},\n     {'metadata': {}, 'name': 'labels', 'nullable': True, 'type': 'integer'}],\n    'id': 'auto_ai_kb_input_schema'},\n   'input_data_schema': {'type': 'struct',\n    'fields': [{'metadata': {'columnInfo': {'columnLength': 64},\n       'measure': 'discrete',\n       'modeling_role': 'feature'},\n      'name': 'preprocessed_texts',\n      'nullable': True,\n      'type': 'string'}]},\n   'output_data_schema': {'type': 'struct',\n    'fields': [{'metadata': {'columnInfo': {'columnLength': 64},\n       'measure': 'discrete',\n       'modeling_role': 'feature'},\n      'name': 'preprocessed_texts',\n      'nullable': True,\n      'type': 'string'},\n     {'metadata': {'modeling_role': 'prediction-probability'},\n      'name': 'prediction_probability',\n      'nullable': True,\n      'type': 'double'},\n     {'metadata': {'modeling_role': 'record-id', 'primary_key': True},\n      'name': 'scoring_id',\n      'nullable': False,\n      'type': 'string'},\n     {'metadata': {'modeling_role': 'record-timestamp'},\n      'name': 'scoring_timestamp',\n      'nullable': False,\n      'type': 'timestamp'},\n     {'metadata': {},\n      'name': 'deployment_id',\n      'nullable': False,\n      'type': 'string'},\n     {'metadata': {},\n      'name': 'asset_revision',\n      'nullable': True,\n      'type': 'string'},\n     {'metadata': {'modeling_role': 'probability'},\n      'name': 'ProbabilityVector',\n      'nullable': True,\n      'type': {'containsNull': True,\n       'elementType': 'double',\n       'type': 'array'}}]},\n   'label_column': 'labels',\n   'prediction_field': 'predictionLabel',\n   'feature_fields': ['preprocessed_texts'],\n   'categorical_fields': ['preprocessed_texts'],\n   'probability_fields': ['probability']},\n  'deployment': {'deployment_id': '7ec4e10b-b84f-4fe0-a8dc-f7b56c5d4ed0',\n   'url': 'https://us-south.ml.cloud.ibm.com/ml/v4/deployments/7ec4e10b-b84f-4fe0-a8dc-f7b56c5d4ed0?space_id=b22781ad-5eff-44b0-a36c-6765799d7133',\n   'name': 'H7 Prediction model',\n   'deployment_type': 'online',\n   'scoring_endpoint': {'url': 'https://us-south.ml.cloud.ibm.com/ml/v4/deployments/7ec4e10b-b84f-4fe0-a8dc-f7b56c5d4ed0/predictions'}},\n  'status': {'state': 'active'}}}"
                    },
                    "execution_count": 206,
                    "metadata": {},
                    "output_type": "execute_result"
                }
            ],
            "source": "wos_client.subscriptions.get(subscription_id).result.to_dict()"
        },
        {
            "cell_type": "markdown",
            "metadata": {},
            "source": "### 3.4 Score the model and get transaction-id"
        },
        {
            "cell_type": "code",
            "execution_count": 207,
            "metadata": {},
            "outputs": [
                {
                    "data": {
                        "text/plain": "'SUCCESS'"
                    },
                    "execution_count": 207,
                    "metadata": {},
                    "output_type": "execute_result"
                }
            ],
            "source": "wml_client.set.default_space(WML_SPACE_ID)"
        },
        {
            "cell_type": "code",
            "execution_count": 208,
            "metadata": {},
            "outputs": [
                {
                    "name": "stdout",
                    "output_type": "stream",
                    "text": "{'predictions': [{'fields': ['prediction', 'probability'], 'values': [[0, [0.9872646509121095, 0.012735349087890485]]]}]}\n"
                }
            ],
            "source": "text = \"Ash cant die and is a badass. I love how stupid it can get and be very good. In most horror movies and dealing with the dead once scratched, bit, or lose limbs the character most likely dies. Ash is on the line of Jason, Freddy, and Michael who cant die. Another film of excessive blood and gore. These movie are stupid good.\" \npayload = {\"input_data\": [{\"fields\": [\"preprocessed_texts\"], \"values\": [[text]]}]}\n\nresponse = wml_client.deployments.score(deployment_uid,payload)\nprint(response)"
        },
        {
            "cell_type": "code",
            "execution_count": 216,
            "metadata": {},
            "outputs": [
                {
                    "data": {
                        "text/plain": "1"
                    },
                    "execution_count": 216,
                    "metadata": {},
                    "output_type": "execute_result"
                }
            ],
            "source": "wos_client.data_sets.get_records_count(payload_data_set_id)"
        },
        {
            "cell_type": "markdown",
            "metadata": {},
            "source": "## 4. Explainability"
        },
        {
            "cell_type": "markdown",
            "metadata": {},
            "source": "### 4.1 Configure Explainability"
        },
        {
            "cell_type": "code",
            "execution_count": 210,
            "metadata": {},
            "outputs": [
                {
                    "name": "stdout",
                    "output_type": "stream",
                    "text": "\n\n===================================================================================\n\n Waiting for end of monitor instance creation 7446ca68-afe2-454f-b2ad-c27963140203 \n\n===================================================================================\n\n\n\npreparing\nactive\n\n---------------------------------------\n Monitor instance successfully created \n---------------------------------------\n\n\n"
                }
            ],
            "source": "target = Target(\n    target_type=TargetTypes.SUBSCRIPTION,\n    target_id=subscription_id\n)\nparameters = {\n    \"enabled\": True\n}\nexplainability_details = wos_client.monitor_instances.create(\n    data_mart_id=data_mart_id,\n    background_mode=False,\n    monitor_definition_id=wos_client.monitor_definitions.MONITORS.EXPLAINABILITY.ID,\n    target=target,\n    parameters=parameters\n).result\n\nexplainability_monitor_id = explainability_details.metadata.id"
        },
        {
            "cell_type": "markdown",
            "metadata": {},
            "source": "### 4.2 Get explanation for the transaction"
        },
        {
            "cell_type": "code",
            "execution_count": 214,
            "metadata": {
                "scrolled": true
            },
            "outputs": [
                {
                    "name": "stdout",
                    "output_type": "stream",
                    "text": "Running explanations on scoring IDs: ['9b9e23b22978e1b1b49cb707dc2da08d-1']\n{\n  \"metadata\": {\n    \"explanation_task_ids\": [\n      \"cef775ea-24d9-4c08-aa1b-f9a4436b61e4\"\n    ],\n    \"created_by\": \"IBMid-66600302EK\",\n    \"created_at\": \"2023-06-09T20:32:39.166395Z\"\n  }\n}\n"
                }
            ],
            "source": "pl_records_resp = wos_client.data_sets.get_list_of_records(data_set_id=payload_data_set_id, limit=1, offset=0).result\n\nif len(pl_records_resp[\"records\"]) > 0:\n    scoring_ids = [pl_records_resp[\"records\"][0][\"entity\"][\"values\"][\"scoring_id\"]]\n    print(\"Running explanations on scoring IDs: {}\".format(scoring_ids))\n    \n    explanation_types = [\"lime\"]\n    result = wos_client.monitor_instances.explanation_tasks(scoring_ids=scoring_ids, explanation_types=explanation_types, subscription_id=subscription_id).result\n    \n    print(result)\nelse:\n    print(\"No records found in the dataset.\")\n"
        },
        {
            "cell_type": "code",
            "execution_count": 222,
            "metadata": {},
            "outputs": [
                {
                    "name": "stdout",
                    "output_type": "stream",
                    "text": "{\n  \"metadata\": {\n    \"explanation_task_id\": \"cef775ea-24d9-4c08-aa1b-f9a4436b61e4\",\n    \"created_by\": \"IBMid-66600302EK\",\n    \"created_at\": \"2023-06-09T20:32:39.166395Z\",\n    \"updated_at\": \"2023-06-09T20:33:06.383540Z\"\n  },\n  \"entity\": {\n    \"status\": {\n      \"state\": \"finished\"\n    },\n    \"asset\": {\n      \"id\": \"ac6ac79d-4ad0-4058-ada1-7e941c343b69\",\n      \"name\": \"P16\",\n      \"input_data_type\": \"unstructured_text\",\n      \"problem_type\": \"binary\",\n      \"deployment\": {\n        \"id\": \"7ec4e10b-b84f-4fe0-a8dc-f7b56c5d4ed0\",\n        \"name\": \"H7 Prediction model\"\n      }\n    },\n    \"input_features\": [\n      {\n        \"name\": \"preprocessed_texts\",\n        \"value\": \"Ash cant die and is a badass. I love how stupid it can get and be very good. In most horror movies and dealing with the dead once scratched, bit, or lose limbs the character most likely dies. Ash is on the line of Jason, Freddy, and Michael who cant die. Another film of excessive blood and gore. These movie are stupid good.\"\n      }\n    ],\n    \"perturbed\": false,\n    \"explanations\": [\n      {\n        \"predictions\": [\n          {\n            \"value\": \"0\",\n            \"probability\": 0.9872646509121095,\n            \"explanation_features\": [\n              {\n                \"weight\": 0.3511506704404465,\n                \"raw_weight\": 0.20201700331519098,\n                \"positions\": [\n                  [\n                    41,\n                    47\n                  ],\n                  [\n                    313,\n                    319\n                  ]\n                ],\n                \"feature_value\": \"stupid\"\n              },\n              {\n                \"weight\": -0.12549746144387225,\n                \"raw_weight\": -0.07219869764951645,\n                \"positions\": [\n                  [\n                    32,\n                    36\n                  ]\n                ],\n                \"feature_value\": \"love\"\n              },\n              {\n                \"weight\": 0.09976421518978333,\n                \"raw_weight\": 0.05739435942255995,\n                \"positions\": [\n                  [\n                    4,\n                    8\n                  ],\n                  [\n                    245,\n                    249\n                  ]\n                ],\n                \"feature_value\": \"cant\"\n              },\n              {\n                \"weight\": 0.07238905213802893,\n                \"raw_weight\": 0.041645426356182486,\n                \"positions\": [\n                  [\n                    55,\n                    58\n                  ]\n                ],\n                \"feature_value\": \"get\"\n              },\n              {\n                \"weight\": 0.06694924934456577,\n                \"raw_weight\": 0.03851590745883097,\n                \"positions\": [\n                  [\n                    116,\n                    119\n                  ],\n                  [\n                    160,\n                    163\n                  ],\n                  [\n                    202,\n                    205\n                  ]\n                ],\n                \"feature_value\": \"the\"\n              },\n              {\n                \"weight\": 0.06620453032259982,\n                \"raw_weight\": 0.03808747055754105,\n                \"positions\": [\n                  [\n                    281,\n                    286\n                  ]\n                ],\n                \"feature_value\": \"blood\"\n              },\n              {\n                \"weight\": 0.0656448815568997,\n                \"raw_weight\": 0.03776550458659766,\n                \"positions\": [\n                  [\n                    206,\n                    210\n                  ]\n                ],\n                \"feature_value\": \"line\"\n              },\n              {\n                \"weight\": 0.06224816074614047,\n                \"raw_weight\": 0.035811370885450985,\n                \"positions\": [\n                  [\n                    164,\n                    173\n                  ]\n                ],\n                \"feature_value\": \"character\"\n              },\n              {\n                \"weight\": 0.061606399203926694,\n                \"raw_weight\": 0.03544216542889199,\n                \"positions\": [\n                  [\n                    241,\n                    244\n                  ]\n                ],\n                \"feature_value\": \"who\"\n              },\n              {\n                \"weight\": -0.02854537961373632,\n                \"raw_weight\": -0.016422158729836604,\n                \"positions\": [\n                  [\n                    103,\n                    110\n                  ]\n                ],\n                \"feature_value\": \"dealing\"\n              }\n            ]\n          },\n          {\n            \"value\": \"1\",\n            \"probability\": 0.012735349087890535\n          }\n        ],\n        \"explanation_type\": \"lime\"\n      }\n    ],\n    \"scoring_id\": \"9b9e23b22978e1b1b49cb707dc2da08d-1\"\n  }\n}\n"
                }
            ],
            "source": "explanation_task_id=result.to_dict()['metadata']['explanation_task_ids'][0]\nprint(wos_client.monitor_instances.get_explanation_tasks(explanation_task_id=explanation_task_id, subscription_id=subscription_id).result)"
        },
        {
            "cell_type": "code",
            "execution_count": null,
            "metadata": {},
            "outputs": [],
            "source": ""
        }
    ],
    "metadata": {
        "kernelspec": {
            "display_name": "Python 3.10",
            "language": "python",
            "name": "python3"
        },
        "language_info": {
            "codemirror_mode": {
                "name": "ipython",
                "version": 3
            },
            "file_extension": ".py",
            "mimetype": "text/x-python",
            "name": "python",
            "nbconvert_exporter": "python",
            "pygments_lexer": "ipython3",
            "version": "3.10.9"
        },
        "varInspector": {
            "cols": {
                "lenName": 16,
                "lenType": 16,
                "lenVar": 40
            },
            "kernels_config": {
                "python": {
                    "delete_cmd_postfix": "",
                    "delete_cmd_prefix": "del ",
                    "library": "var_list.py",
                    "varRefreshCmd": "print(var_dic_list())"
                },
                "r": {
                    "delete_cmd_postfix": ") ",
                    "delete_cmd_prefix": "rm(",
                    "library": "var_list.r",
                    "varRefreshCmd": "cat(var_dic_list()) "
                }
            },
            "types_to_exclude": [
                "module",
                "function",
                "builtin_function_or_method",
                "instance",
                "_Feature"
            ],
            "window_display": false
        }
    },
    "nbformat": 4,
    "nbformat_minor": 2
}